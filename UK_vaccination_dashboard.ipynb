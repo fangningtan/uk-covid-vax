{
 "cells": [
  {
   "cell_type": "markdown",
   "metadata": {},
   "source": [
    "# UK Covid-19 Vaccination Dashboard"
   ]
  },
  {
   "cell_type": "markdown",
   "metadata": {},
   "source": [
    "This notebook is an interactive dashboard showing the uptake of Covid-19 vaccinations in the UK. Data was obtained from Public Health England's [Covid-19 data API](https://coronavirus.data.gov.uk/details/developers-guide)."
   ]
  },
  {
   "cell_type": "markdown",
   "metadata": {},
   "source": [
    "## Set-up"
   ]
  },
  {
   "cell_type": "markdown",
   "metadata": {},
   "source": [
    "The data initially displayed on this dashboard was last updated on 3 December. To refresh the dashboard, you can click on the 'Fetch latest data' button below."
   ]
  },
  {
   "cell_type": "code",
   "execution_count": 1,
   "metadata": {},
   "outputs": [],
   "source": [
    "from IPython.display import clear_output\n",
    "import ipywidgets as wdg\n",
    "import pandas as pd\n",
    "import numpy as np\n",
    "import matplotlib.pyplot as plt\n",
    "import json\n",
    "from uk_covid19 import Cov19API"
   ]
  },
  {
   "cell_type": "code",
   "execution_count": 2,
   "metadata": {},
   "outputs": [],
   "source": [
    "%matplotlib inline\n",
    "# make figures larger\n",
    "plt.rcParams['figure.dpi'] = 100"
   ]
  },
  {
   "cell_type": "code",
   "execution_count": 3,
   "metadata": {},
   "outputs": [],
   "source": [
    "# Load JSON files and store the raw data in some variable. Edit as appropriate\n",
    "with open(\"vax_percentage.json\", \"rt\") as INFILE:\n",
    "    vax_percentage=json.load(INFILE)\n",
    "with open(\"vax_percentage_nation.json\", \"rt\") as INFILE:\n",
    "    vax_percentage_nation=json.load(INFILE)"
   ]
  },
  {
   "cell_type": "code",
   "execution_count": 4,
   "metadata": {},
   "outputs": [],
   "source": [
    "def wrangle_data(rawdata):\n",
    "    # note: rawdata is the json file that we've loaded\n",
    "    # convert to pandas df\n",
    "    df = pd.DataFrame.from_dict(rawdata['data'])\n",
    "\n",
    "    # convert date column into datetime \n",
    "    df['date'] = pd.to_datetime(df['date'])\n",
    "    \n",
    "    # set date column as index\n",
    "    df.set_index('date', inplace=True)\n",
    "    \n",
    "    # sort the index\n",
    "    df.sort_index(inplace=True)\n",
    "    \n",
    "    return df\n",
    "\n",
    "# putting the wrangling code into a function allows you to call it again after refreshing the data through \n",
    "# the API. You should call the function directly on the JSON data when the dashboard starts, by including \n",
    "# the call in the cell as below:\n",
    "df_vax_p = wrangle_data(vax_percentage)\n",
    "df_vax_p_nation = wrangle_data(vax_percentage_nation)"
   ]
  },
  {
   "cell_type": "code",
   "execution_count": 5,
   "metadata": {},
   "outputs": [],
   "source": [
    "# Place your API access code in this function. Do not call this function directly; it will be called by \n",
    "# the button callback. \n",
    "def access_vax_percentage_api():\n",
    "    \"\"\" Accesses the PHE API. Returns raw data in the same format as data loaded from the \"canned\" JSON file. \"\"\"\n",
    "    filters = [\n",
    "        'areaType=overview'\n",
    "    ]\n",
    "\n",
    "\n",
    "    # values here are the names of the PHE metrics\n",
    "    structure = {\n",
    "        \"date\": \"date\",\n",
    "        \"cum1stDosePercentage\": \"cumVaccinationFirstDoseUptakeByPublishDatePercentage\",\n",
    "        \"cum2ndDosePercentage\": \"cumVaccinationSecondDoseUptakeByPublishDatePercentage\",\n",
    "        \"cum3rdDosePercentage\": \"cumVaccinationThirdInjectionUptakeByPublishDatePercentage\"\n",
    "    }\n",
    "\n",
    "    vax_percentage_api = Cov19API(filters=filters, structure=structure)\n",
    "    vax_percentage=vax_percentage_api.get_json()\n",
    "    return vax_percentage # return data read from the API\n",
    "\n",
    "# api for nation-specific data\n",
    "def access_vax_percentage_nation_api():\n",
    "    filters = [\n",
    "        'areaType=nation'\n",
    "    ]\n",
    "\n",
    "    # values here are the names of the PHE metrics\n",
    "    structure = {\n",
    "        \"date\": \"date\",\n",
    "        \"nation\": \"areaName\",\n",
    "        \"cum1stDosePercentage\": \"cumVaccinationFirstDoseUptakeByPublishDatePercentage\",\n",
    "        \"cum2ndDosePercentage\": \"cumVaccinationSecondDoseUptakeByPublishDatePercentage\",\n",
    "        \"cum3rdDosePercentage\": \"cumVaccinationThirdInjectionUptakeByPublishDatePercentage\"\n",
    "    }\n",
    "\n",
    "    vax_percentage_nation_api = Cov19API(filters=filters, structure=structure)\n",
    "    vax_percentage_nation = vax_percentage_nation_api.get_json()\n",
    "    return vax_percentage_nation"
   ]
  },
  {
   "cell_type": "code",
   "execution_count": 6,
   "metadata": {},
   "outputs": [
    {
     "data": {
      "application/vnd.jupyter.widget-view+json": {
       "model_id": "313afcc489cf4ae0983fcf96b5f27e85",
       "version_major": 2,
       "version_minor": 0
      },
      "text/plain": [
       "Button(description='Fetch latest data', icon='download', layout=Layout(height='40px', width='30%'), style=Butt…"
      ]
     },
     "metadata": {},
     "output_type": "display_data"
    }
   ],
   "source": [
    "# Printout from this function will be lost in Voila unless captured in an\n",
    "# output widget - therefore, we give feedback to the user by changing the \n",
    "# appearance of the button\n",
    "\n",
    "from ipywidgets import Button, Layout\n",
    "\n",
    "b = Button(layout=Layout(width='30%', height='40px'))\n",
    "\n",
    "def api_button_callback(button):\n",
    "    \"\"\" Button callback - it must take the button as its parameter (unused in this case).\n",
    "    Accesses API, wrangles data, updates global variable df used for plotting. \"\"\"\n",
    "    # Get fresh data from the API. If you have time, include some error handling\n",
    "    # around this call.\n",
    "    # try except block\n",
    "    try:\n",
    "        \n",
    "        vax_p_data = access_vax_percentage_api()\n",
    "        vax_p_nation_data = access_vax_percentage_nation_api()\n",
    "    except:\n",
    "        apibutton.description = \"API unavailable\"\n",
    "    # wrangle the data and overwrite the dataframe for plotting\n",
    "    else:\n",
    "        global df_vax_p\n",
    "        df_vax_p = wrangle_data(vax_p_data)\n",
    "        global df_vax_p_nation\n",
    "        df_vax_p_nation = wrangle_data(vax_p_nation_data)\n",
    "        \n",
    "        \n",
    "        # refresh the graphs\n",
    "        refresh_percentage_graph()\n",
    "        refresh_nations_graph()\n",
    "        \n",
    "        # disabled the button\n",
    "        apibutton.icon=\"check\"\n",
    "        apibutton.disabled=True\n",
    "\n",
    "    \n",
    "apibutton=wdg.Button(\n",
    "    description='Fetch latest data', \n",
    "    layout = b.layout,\n",
    "    disabled=False,\n",
    "    button_style='', # 'success', 'info', 'warning', 'danger' or ''\n",
    "    tooltip=\"Access the API to download updated data\",\n",
    "    # FontAwesome names without the `fa-` prefix - try \"download\"\n",
    "    icon='download',\n",
    ")\n",
    "\n",
    "# remember to register your button callback function with the button\n",
    "apibutton.on_click(api_button_callback) # the name of your function inside these brackets\n",
    "\n",
    "display(apibutton)\n",
    "\n",
    "# run all cells before clicking on this button"
   ]
  },
  {
   "cell_type": "markdown",
   "metadata": {},
   "source": [
    "## Vaccination uptake in the UK"
   ]
  },
  {
   "cell_type": "markdown",
   "metadata": {},
   "source": [
    "The Covid-19 vaccination programme in the UK began on 8 December 2020 (but data from the API is only available from 11 Janurary 2020).\n",
    "\n",
    "All vaccines are given as at least 2 doses, at least 21 days apart. Some people at higher risk from COVID-19 will also receive 3rd doses or booster vaccines.\n",
    "\n",
    "For more detailed information on how vaccination data is reported, refer to the [documentation](https://coronavirus.data.gov.uk/metrics/doc/cumVaccinationFirstDoseUptakeByPublishDatePercentage)."
   ]
  },
  {
   "cell_type": "markdown",
   "metadata": {},
   "source": [
    "### UK vaccination uptake\n",
    "This graph shows the cumulative percentage of the population who have received vaccination dose(s). You can select more than more dose number to compare the uptake of the doses using CTRL-click."
   ]
  },
  {
   "cell_type": "code",
   "execution_count": 10,
   "metadata": {},
   "outputs": [
    {
     "data": {
      "application/vnd.jupyter.widget-view+json": {
       "model_id": "19fd97bf687647698d7ed16a212d0d3b",
       "version_major": 2,
       "version_minor": 0
      },
      "text/plain": [
       "HBox(children=(Output(), VBox(children=(SelectMultiple(description='Dose number', index=(0, 1, 2), options=('c…"
      ]
     },
     "metadata": {},
     "output_type": "display_data"
    }
   ],
   "source": [
    "import matplotlib.dates as mdates\n",
    "from matplotlib.ticker import (AutoMinorLocator, MultipleLocator)\n",
    "from ipywidgets import VBox, Label, Layout\n",
    "\n",
    "series=wdg.SelectMultiple(\n",
    "    options=['cum1stDosePercentage', 'cum2ndDosePercentage', 'cum3rdDosePercentage'], # options available\n",
    "    value=['cum1stDosePercentage', 'cum2ndDosePercentage', 'cum3rdDosePercentage'], # initial value\n",
    "    rows=3, # rows of the selection box\n",
    "    description='Dose number',\n",
    "    disabled=False\n",
    ")\n",
    "\n",
    "def percentage_graph(graphcolumns):\n",
    "    # our callback function.\n",
    "    ncols=len(graphcolumns)\n",
    "    if ncols>0:\n",
    "        ax = df_vax_p.plot(y=list(graphcolumns), figsize=(10, 5), title=\"Vaccination uptake in the UK\") # graphcolumns is a tuple - we need a list\n",
    "        \n",
    "        # format dates on x axis\n",
    "        ax.xaxis.set_major_locator(mdates.MonthLocator(interval=2))\n",
    "        ax.xaxis.set_major_formatter(mdates.DateFormatter('%d-%b-%y'))\n",
    "        ax.xaxis.set_minor_locator(mdates.MonthLocator(interval=1))\n",
    "        \n",
    "        # set y-axis limits\n",
    "        plt.ylim(0,100)\n",
    "        ax.yaxis.set_minor_locator(AutoMinorLocator(4)) # shows tick for every 5, 20/4 = 5\n",
    "        \n",
    "        # add axis labels\n",
    "        plt.ylabel('Percentage uptake (%)')\n",
    "        plt.xlabel('Date')\n",
    "        \n",
    "        # shorten legend labels\n",
    "        # ax.legend(labels=['1st dose', '2nd dose', '3rd dose'])\n",
    "        \n",
    "        plt.show() # important - graphs won't update properly if this is missing\n",
    "    else:\n",
    "        # if the user has not selected any column, print a message instead\n",
    "        print(\"Click to select data for graph\")\n",
    "        print(\"(CTRL-Click to select more than one category)\")\n",
    "\n",
    "# CHANGE this to own function, define another one for the nation graph?\n",
    "def refresh_percentage_graph():\n",
    "    \"\"\" We change the value of the widget in order to force a redraw of the graph;\n",
    "    this is useful when the data have been updated. This is a bit of a gimmick; it\n",
    "    needs to be customised for one of your widgets. \"\"\"\n",
    "    current=series.value\n",
    "    if current==series.value:\n",
    "        other=series.options[:2]\n",
    "    else:\n",
    "        other=series.options\n",
    "    series.value=other # forces the redraw\n",
    "    series.value=current # now we can change it back        \n",
    "        \n",
    "\n",
    "# keep calling age_graph(graphcolumns=value_of_agecols); capture output in widget output    \n",
    "graph=wdg.interactive_output(percentage_graph, {'graphcolumns': series})\n",
    "\n",
    "ctrls=wdg.VBox([series], layout=Layout(align_items='flex-start', justify_content='center'))\n",
    "# put the graph and the controls side by side\n",
    "form=wdg.HBox([graph, ctrls])\n",
    "\n",
    "display(form)"
   ]
  },
  {
   "cell_type": "markdown",
   "metadata": {},
   "source": [
    "### Vaccination uptake by nation\n",
    "This graph shows the cumulative percentage of the population in each nation who have received vaccination dose(s) since 11 January 2021. You can toggle between the buttons to view the graphs for each dose number."
   ]
  },
  {
   "cell_type": "code",
   "execution_count": 8,
   "metadata": {},
   "outputs": [
    {
     "data": {
      "application/vnd.jupyter.widget-view+json": {
       "model_id": "935b7992e1784f7eb4592beba068644c",
       "version_major": 2,
       "version_minor": 0
      },
      "text/plain": [
       "RadioButtons(description='Dose: ', layout=Layout(width='max-content'), options=('cum1stDosePercentage', 'cum2n…"
      ]
     },
     "metadata": {},
     "output_type": "display_data"
    },
    {
     "data": {
      "application/vnd.jupyter.widget-view+json": {
       "model_id": "4ae84a954f784d9f98cc3e07f56c5fe0",
       "version_major": 2,
       "version_minor": 0
      },
      "text/plain": [
       "Output()"
      ]
     },
     "metadata": {},
     "output_type": "display_data"
    }
   ],
   "source": [
    "# nation-specific vaccination uptake\n",
    "dose_no=wdg.RadioButtons(\n",
    "    options=['cum1stDosePercentage', 'cum2ndDosePercentage', 'cum3rdDosePercentage'],\n",
    "    value='cum1stDosePercentage', \n",
    "    layout={'width': 'max-content'}, # If the items' names are long\n",
    "    description='Dose: ',\n",
    "    disabled=False\n",
    ")\n",
    "\n",
    "\n",
    "def nations_graph(dose_no):  \n",
    "    df_vax_p_nation.groupby('nation').plot(kind='line', y=dose_no, ax=plt.gca(), figsize=(10, 5), title=\"Vaccination uptake in the UK by nation\")\n",
    "\n",
    "    # set y-axis limits\n",
    "    plt.ylim(0,100)\n",
    "\n",
    "    # add axis labels\n",
    "    plt.ylabel('Percentage uptake (%)')\n",
    "    plt.xlabel('Date')\n",
    "    \n",
    "    plt.legend(df_vax_p_nation['nation'], loc='upper left')\n",
    "    \n",
    "    plt.show() # important - graphs won't update if this is missing \n",
    "\n",
    "\n",
    "def refresh_nations_graph():\n",
    "    \"\"\" We change the value of the widget in order to force a redraw of the graph;\n",
    "    this is useful when the data have been updated. This is a bit of a gimmick; it\n",
    "    needs to be customised for one of your widgets. \"\"\"\n",
    "    current=dose_no.value\n",
    "    if current==dose_no.options[0]:\n",
    "        other=dose_no.options[1]\n",
    "    else:\n",
    "        other=dose_no.options[0]\n",
    "    dose_no.value=other # forces the redraw\n",
    "    dose_no.value=current # now we can change it back      \n",
    "\n",
    "# capture output in widget graph   \n",
    "graph=wdg.interactive_output(nations_graph, {'dose_no': dose_no})\n",
    "\n",
    "display(dose_no, graph)"
   ]
  },
  {
   "cell_type": "markdown",
   "metadata": {},
   "source": [
    "**2021 Fang Ning Tan**  [(Github)](https://github.com/fangningtan/). *Based on UK Government [data](https://coronavirus.data.gov.uk/) published by [Public Health England](https://www.gov.uk/government/organisations/public-health-england).* \n",
    "\n",
    "Note: This dashboard was based on the [DIY Covid-19 Dashboard Kit](https://github.com/fsmeraldi/diy-covid19dash) (C) Fabrizio Smeraldi, 2020 ([f.smeraldi@qmul.ac.uk](mailto:f.smeraldi@qmul.ac.uk) - [web](http://www.eecs.qmul.ac.uk/~fabri/)). All rights reserved."
   ]
  }
 ],
 "metadata": {
  "kernelspec": {
   "display_name": "Python 3 (ipykernel)",
   "language": "python",
   "name": "python3"
  },
  "language_info": {
   "codemirror_mode": {
    "name": "ipython",
    "version": 3
   },
   "file_extension": ".py",
   "mimetype": "text/x-python",
   "name": "python",
   "nbconvert_exporter": "python",
   "pygments_lexer": "ipython3",
   "version": "3.9.6"
  }
 },
 "nbformat": 4,
 "nbformat_minor": 4
}
